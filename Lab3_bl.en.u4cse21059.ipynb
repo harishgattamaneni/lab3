{
 "cells": [
  {
   "cell_type": "code",
   "execution_count": null,
   "metadata": {},
   "outputs": [],
   "source": [
    "import pandas as pd\n",
    "\n",
    "file_path = r\"/Users/harishgattamaneni/Downloads/Dataset to B.tech.xlsx\"\n",
    "\n",
    "data_frame = pd.read_excel(file_path)\n",
    "\n",
    "# For example, printing the data\n",
    "print(data_frame)"
   ]
  }
 ],
 "metadata": {
  "language_info": {
   "name": "python"
  },
  "orig_nbformat": 4
 },
 "nbformat": 4,
 "nbformat_minor": 2
}
