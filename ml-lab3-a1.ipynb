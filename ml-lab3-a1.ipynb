{
 "cells": [
  {
   "cell_type": "code",
   "execution_count": 5,
   "id": "a71153b2",
   "metadata": {},
   "outputs": [
    {
     "name": "stdout",
     "output_type": "stream",
     "text": [
      "0.008982928828619757\n",
      "-0.025840109987570435\n",
      "0.013072473958361886\n",
      "0.014336822884232674\n",
      "0.03482303881619019\n"
     ]
    }
   ],
   "source": [
    "import numpy as np\n",
    "import pandas as pd\n",
    "\n",
    "df=pd.read_excel('embeddingsdata.xlsx')\n",
    "class1_centroid = np.mean(df['embed_0'], axis=0)\n",
    "class2_centroid = np.mean(df['embed_1'], axis=0)\n",
    "print(class1_centroid)\n",
    "print(class2_centroid)\n",
    "class1_std = np.std(df['embed_0'], axis=0)\n",
    "class2_std = np.std(df['embed_1'], axis=0)\n",
    "print(class1_std)\n",
    "print(class2_std)\n",
    "distance_between_centroids = np.linalg.norm(class1_centroid - class2_centroid)\n",
    "print(distance_between_centroids)"
   ]
  },
  {
   "cell_type": "code",
   "execution_count": null,
   "id": "2f0911fd",
   "metadata": {},
   "outputs": [],
   "source": [
    "\n"
   ]
  },
  {
   "cell_type": "code",
   "execution_count": null,
   "id": "e390011c",
   "metadata": {},
   "outputs": [],
   "source": [
    "\n"
   ]
  },
  {
   "cell_type": "code",
   "execution_count": null,
   "id": "f2c9418d",
   "metadata": {},
   "outputs": [],
   "source": []
  },
  {
   "cell_type": "code",
   "execution_count": null,
   "id": "5561e373",
   "metadata": {},
   "outputs": [],
   "source": []
  }
 ],
 "metadata": {
  "kernelspec": {
   "display_name": "Python 3 (ipykernel)",
   "language": "python",
   "name": "python3"
  },
  "language_info": {
   "codemirror_mode": {
    "name": "ipython",
    "version": 3
   },
   "file_extension": ".py",
   "mimetype": "text/x-python",
   "name": "python",
   "nbconvert_exporter": "python",
   "pygments_lexer": "ipython3",
   "version": "3.11.4"
  }
 },
 "nbformat": 4,
 "nbformat_minor": 5
}
